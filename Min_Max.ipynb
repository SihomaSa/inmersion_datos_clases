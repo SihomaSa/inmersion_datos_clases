{
  "nbformat": 4,
  "nbformat_minor": 0,
  "metadata": {
    "colab": {
      "provenance": [],
      "authorship_tag": "ABX9TyOmgnCMueG+WM/tuOU0+ctX",
      "include_colab_link": true
    },
    "kernelspec": {
      "name": "python3",
      "display_name": "Python 3"
    },
    "language_info": {
      "name": "python"
    }
  },
  "cells": [
    {
      "cell_type": "markdown",
      "metadata": {
        "id": "view-in-github",
        "colab_type": "text"
      },
      "source": [
        "<a href=\"https://colab.research.google.com/github/SihomaSa/inmersion_datos_clases/blob/main/Min_Max.ipynb\" target=\"_parent\"><img src=\"https://colab.research.google.com/assets/colab-badge.svg\" alt=\"Open In Colab\"/></a>"
      ]
    },
    {
      "cell_type": "code",
      "execution_count": 1,
      "metadata": {
        "id": "-cMPjXA0XUX_"
      },
      "outputs": [],
      "source": [
        "import numpy as np\n",
        "import torch"
      ]
    },
    {
      "cell_type": "code",
      "source": [
        "planet_density =np.array([5429,5243,5514,3934,1326,687,1270,1630,1850])"
      ],
      "metadata": {
        "id": "gkunpBT3XawP"
      },
      "execution_count": 3,
      "outputs": []
    },
    {
      "cell_type": "code",
      "source": [
        "max_den=np.max(planet_density)\n",
        "min_den=np.min(planet_density)"
      ],
      "metadata": {
        "id": "50TwWZkdX3Dc"
      },
      "execution_count": 6,
      "outputs": []
    },
    {
      "cell_type": "code",
      "source": [
        "max_index=np.argmax(planet_density)\n",
        "min_index=np.argmin(planet_density)\n",
        "print(max_index)\n",
        "print(min_index)"
      ],
      "metadata": {
        "colab": {
          "base_uri": "https://localhost:8080/"
        },
        "id": "Ow5zhDpoYKH0",
        "outputId": "b3e53492-670a-4d3f-f2a1-09e3dac2ea82"
      },
      "execution_count": 8,
      "outputs": [
        {
          "output_type": "stream",
          "name": "stdout",
          "text": [
            "2\n",
            "5\n"
          ]
        }
      ]
    },
    {
      "cell_type": "code",
      "source": [
        "print(planet_density[min_index])\n",
        "print(planet_density[max_index])"
      ],
      "metadata": {
        "colab": {
          "base_uri": "https://localhost:8080/"
        },
        "id": "Rb0mlDTCYerk",
        "outputId": "d2b594ef-6019-4272-d846-db4ea2726cf4"
      },
      "execution_count": 10,
      "outputs": [
        {
          "output_type": "stream",
          "name": "stdout",
          "text": [
            "687\n",
            "5514\n"
          ]
        }
      ]
    },
    {
      "cell_type": "code",
      "source": [
        "planet_info = np.array([[5.2,9.6,19.2],[9.8,1.6,3.7]])\n",
        "print(planet_info)\n",
        "print('')\n",
        "#compare all elements\n",
        "print(np.min(planet_info))\n",
        "#compare each column\n",
        "print(np.min(planet_info,axis=0))\n",
        "#compare each row\n",
        "print(np.min(planet_info,axis=1))"
      ],
      "metadata": {
        "colab": {
          "base_uri": "https://localhost:8080/"
        },
        "id": "A26emFzHZB1F",
        "outputId": "84b58526-7136-471e-dc9b-03a2ae83eaa4"
      },
      "execution_count": 13,
      "outputs": [
        {
          "output_type": "stream",
          "name": "stdout",
          "text": [
            "[[ 5.2  9.6 19.2]\n",
            " [ 9.8  1.6  3.7]]\n",
            "\n",
            "1.6\n",
            "[5.2 1.6 3.7]\n",
            "[5.2 1.6]\n"
          ]
        }
      ]
    },
    {
      "cell_type": "code",
      "source": [
        "#compare all elements\n",
        "print(np.max(planet_info))\n",
        "#compare each column\n",
        "print(np.max(planet_info,axis=0))\n",
        "#compare each row\n",
        "print(np.max(planet_info,axis=1))"
      ],
      "metadata": {
        "colab": {
          "base_uri": "https://localhost:8080/"
        },
        "id": "SPM30MficdNN",
        "outputId": "fbe24863-14bc-4619-b384-f3d25d995171"
      },
      "execution_count": 17,
      "outputs": [
        {
          "output_type": "stream",
          "name": "stdout",
          "text": [
            "19.2\n",
            "[ 9.8  9.6 19.2]\n",
            "[19.2  9.8]\n"
          ]
        }
      ]
    },
    {
      "cell_type": "code",
      "source": [
        "#flatten matrix\n",
        "print(planet_info)\n",
        "print('')\n",
        "arg_min=np.argmin(planet_info)\n",
        "print(arg_min)"
      ],
      "metadata": {
        "colab": {
          "base_uri": "https://localhost:8080/"
        },
        "id": "0bpXsVbdc6ME",
        "outputId": "deab2852-ec66-47b6-ce9c-4b7c5a4352b7"
      },
      "execution_count": 18,
      "outputs": [
        {
          "output_type": "stream",
          "name": "stdout",
          "text": [
            "[[ 5.2  9.6 19.2]\n",
            " [ 9.8  1.6  3.7]]\n",
            "\n",
            "4\n"
          ]
        }
      ]
    },
    {
      "cell_type": "code",
      "source": [
        "np.unravel_index(arg_min, planet_info.shape)"
      ],
      "metadata": {
        "colab": {
          "base_uri": "https://localhost:8080/"
        },
        "id": "29zDw5J6dg_1",
        "outputId": "b6bd1480-2603-4ea3-f3a3-d1f890944692"
      },
      "execution_count": 19,
      "outputs": [
        {
          "output_type": "execute_result",
          "data": {
            "text/plain": [
              "(1, 1)"
            ]
          },
          "metadata": {},
          "execution_count": 19
        }
      ]
    },
    {
      "cell_type": "code",
      "source": [
        "np.argmin(planet_info,axis=0)"
      ],
      "metadata": {
        "colab": {
          "base_uri": "https://localhost:8080/"
        },
        "id": "SaEZ-wR3dsT8",
        "outputId": "7ec6eda0-141f-4f57-ccab-71117aa992e7"
      },
      "execution_count": 20,
      "outputs": [
        {
          "output_type": "execute_result",
          "data": {
            "text/plain": [
              "array([0, 1, 1])"
            ]
          },
          "metadata": {},
          "execution_count": 20
        }
      ]
    },
    {
      "cell_type": "code",
      "source": [
        "np.argmax(planet_info,axis=1)"
      ],
      "metadata": {
        "colab": {
          "base_uri": "https://localhost:8080/"
        },
        "id": "-rXV6H1vdyvE",
        "outputId": "14f1d5da-b5cb-4ffd-f04d-a0574265b022"
      },
      "execution_count": 21,
      "outputs": [
        {
          "output_type": "execute_result",
          "data": {
            "text/plain": [
              "array([2, 0])"
            ]
          },
          "metadata": {},
          "execution_count": 21
        }
      ]
    },
    {
      "cell_type": "code",
      "source": [
        "#convert to tensor\n",
        "p_den_tensor=torch.tensor(planet_density)\n",
        "print(p_den_tensor)\n",
        "print('')\n",
        "#find min and max\n",
        "print(torch.max(p_den_tensor))\n",
        "print(torch.min(p_den_tensor))\n",
        "print('')\n",
        "#find index of min and max\n",
        "print(torch.argmax(p_den_tensor))\n",
        "print(torch.argmin(p_den_tensor))"
      ],
      "metadata": {
        "colab": {
          "base_uri": "https://localhost:8080/"
        },
        "id": "zAsRr3hGd4Ms",
        "outputId": "03280740-083f-4cab-ecf4-a7ad60c837e2"
      },
      "execution_count": 23,
      "outputs": [
        {
          "output_type": "stream",
          "name": "stdout",
          "text": [
            "tensor([5429, 5243, 5514, 3934, 1326,  687, 1270, 1630, 1850])\n",
            "\n",
            "tensor(5514)\n",
            "tensor(687)\n",
            "\n",
            "tensor(2)\n",
            "tensor(5)\n"
          ]
        }
      ]
    },
    {
      "cell_type": "code",
      "source": [
        "#repeat with matrix\n",
        "p_info_tensor=torch.tensor(planet_info)\n",
        "print(p_info_tensor)\n",
        "print('')\n",
        "#compare all elements\n",
        "print(torch.min(p_info_tensor))\n",
        "print('')\n",
        "#compare each column\n",
        "print(torch.min(p_info_tensor, axis=0))\n",
        "print('')\n",
        "#compare each row\n",
        "print(torch.min(p_info_tensor, axis=1))\n",
        "print('')"
      ],
      "metadata": {
        "colab": {
          "base_uri": "https://localhost:8080/"
        },
        "id": "Uoqj9Y5FfIic",
        "outputId": "c9aef221-720f-4cc3-83dd-d9ae08c35b14"
      },
      "execution_count": 25,
      "outputs": [
        {
          "output_type": "stream",
          "name": "stdout",
          "text": [
            "tensor([[ 5.2000,  9.6000, 19.2000],\n",
            "        [ 9.8000,  1.6000,  3.7000]], dtype=torch.float64)\n",
            "\n",
            "tensor(1.6000, dtype=torch.float64)\n",
            "\n",
            "torch.return_types.min(\n",
            "values=tensor([5.2000, 1.6000, 3.7000], dtype=torch.float64),\n",
            "indices=tensor([0, 1, 1]))\n",
            "\n",
            "torch.return_types.min(\n",
            "values=tensor([5.2000, 1.6000], dtype=torch.float64),\n",
            "indices=tensor([0, 1]))\n",
            "\n"
          ]
        }
      ]
    },
    {
      "cell_type": "code",
      "source": [],
      "metadata": {
        "id": "bmJlEpv9gGP1"
      },
      "execution_count": null,
      "outputs": []
    }
  ]
}